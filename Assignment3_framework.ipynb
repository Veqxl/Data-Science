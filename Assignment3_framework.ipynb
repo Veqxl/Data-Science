{
 "cells": [
  {
   "cell_type": "markdown",
   "id": "f35b4f48-7fb8-4957-84f7-6e5750f0c38d",
   "metadata": {},
   "source": [
    "# Install and load necesary packages"
   ]
  },
  {
   "cell_type": "code",
   "execution_count": 1,
   "id": "b2b15118-de76-4a63-a3ec-a3f45616fbd2",
   "metadata": {},
   "outputs": [],
   "source": [
    "# Please don't change this cell\n",
    "\n",
    "import pandas as pd\n",
    "import numpy as np  \n",
    "\n",
    "import warnings\n",
    "warnings.filterwarnings(\"ignore\")"
   ]
  },
  {
   "cell_type": "markdown",
   "id": "12c496a5-df6d-4838-93e9-59c2ed4df088",
   "metadata": {},
   "source": [
    "## Load the dataset using pandas"
   ]
  },
  {
   "cell_type": "code",
   "execution_count": 2,
   "id": "fab3d257-297a-42e4-9ef0-6771fd30358a",
   "metadata": {},
   "outputs": [
    {
     "data": {
      "application/vnd.microsoft.datawrangler.viewer.v0+json": {
       "columns": [
        {
         "name": "index",
         "rawType": "int64",
         "type": "integer"
        },
        {
         "name": "user_id",
         "rawType": "int64",
         "type": "integer"
        },
        {
         "name": "item_id",
         "rawType": "int64",
         "type": "integer"
        },
        {
         "name": "rating",
         "rawType": "int64",
         "type": "integer"
        },
        {
         "name": "timestamp",
         "rawType": "int64",
         "type": "integer"
        }
       ],
       "ref": "ae422ecc-59c7-4de3-843a-b052a0ff33e8",
       "rows": [
        [
         "0",
         "196",
         "242",
         "3",
         "881250949"
        ],
        [
         "1",
         "186",
         "302",
         "3",
         "891717742"
        ],
        [
         "2",
         "22",
         "377",
         "1",
         "878887116"
        ],
        [
         "3",
         "244",
         "51",
         "2",
         "880606923"
        ],
        [
         "4",
         "166",
         "346",
         "1",
         "886397596"
        ]
       ],
       "shape": {
        "columns": 4,
        "rows": 5
       }
      },
      "text/html": [
       "<div>\n",
       "<style scoped>\n",
       "    .dataframe tbody tr th:only-of-type {\n",
       "        vertical-align: middle;\n",
       "    }\n",
       "\n",
       "    .dataframe tbody tr th {\n",
       "        vertical-align: top;\n",
       "    }\n",
       "\n",
       "    .dataframe thead th {\n",
       "        text-align: right;\n",
       "    }\n",
       "</style>\n",
       "<table border=\"1\" class=\"dataframe\">\n",
       "  <thead>\n",
       "    <tr style=\"text-align: right;\">\n",
       "      <th></th>\n",
       "      <th>user_id</th>\n",
       "      <th>item_id</th>\n",
       "      <th>rating</th>\n",
       "      <th>timestamp</th>\n",
       "    </tr>\n",
       "  </thead>\n",
       "  <tbody>\n",
       "    <tr>\n",
       "      <th>0</th>\n",
       "      <td>196</td>\n",
       "      <td>242</td>\n",
       "      <td>3</td>\n",
       "      <td>881250949</td>\n",
       "    </tr>\n",
       "    <tr>\n",
       "      <th>1</th>\n",
       "      <td>186</td>\n",
       "      <td>302</td>\n",
       "      <td>3</td>\n",
       "      <td>891717742</td>\n",
       "    </tr>\n",
       "    <tr>\n",
       "      <th>2</th>\n",
       "      <td>22</td>\n",
       "      <td>377</td>\n",
       "      <td>1</td>\n",
       "      <td>878887116</td>\n",
       "    </tr>\n",
       "    <tr>\n",
       "      <th>3</th>\n",
       "      <td>244</td>\n",
       "      <td>51</td>\n",
       "      <td>2</td>\n",
       "      <td>880606923</td>\n",
       "    </tr>\n",
       "    <tr>\n",
       "      <th>4</th>\n",
       "      <td>166</td>\n",
       "      <td>346</td>\n",
       "      <td>1</td>\n",
       "      <td>886397596</td>\n",
       "    </tr>\n",
       "  </tbody>\n",
       "</table>\n",
       "</div>"
      ],
      "text/plain": [
       "   user_id  item_id  rating  timestamp\n",
       "0      196      242       3  881250949\n",
       "1      186      302       3  891717742\n",
       "2       22      377       1  878887116\n",
       "3      244       51       2  880606923\n",
       "4      166      346       1  886397596"
      ]
     },
     "execution_count": 2,
     "metadata": {},
     "output_type": "execute_result"
    }
   ],
   "source": [
    "# Please don't change this cell\n",
    "df = pd.read_csv('ml-100k/u.data', names=['user_id', 'item_id', 'rating', 'timestamp'], sep='\\t')\n",
    "\n",
    "df.head()"
   ]
  },
  {
   "cell_type": "markdown",
   "id": "8443bc64-6256-4f39-a892-19fd6fd105a0",
   "metadata": {},
   "source": [
    "# Split dataset\n"
   ]
  },
  {
   "cell_type": "markdown",
   "id": "639b70f3-da86-4492-ad1d-054842f1123d",
   "metadata": {},
   "source": [
    "## Randomly select one rating from each user as test set"
   ]
  },
  {
   "cell_type": "code",
   "execution_count": 3,
   "id": "52cfa457-e512-4218-9554-ff98c29edf9c",
   "metadata": {},
   "outputs": [
    {
     "name": "stdout",
     "output_type": "stream",
     "text": [
      "943 users\n",
      "1682 items\n",
      "Construct the rating matrix based on train_df:\n",
      "[[0. 3. 4. ... 0. 0. 0.]\n",
      " [4. 0. 0. ... 0. 0. 0.]\n",
      " [0. 0. 0. ... 0. 0. 0.]\n",
      " ...\n",
      " [5. 0. 0. ... 0. 0. 0.]\n",
      " [0. 0. 0. ... 0. 0. 0.]\n",
      " [0. 5. 0. ... 0. 0. 0.]]\n",
      "Construct the rating matrix based on test_df:\n",
      "[[5. 0. 0. ... 0. 0. 0.]\n",
      " [0. 0. 0. ... 0. 0. 0.]\n",
      " [0. 0. 0. ... 0. 0. 0.]\n",
      " ...\n",
      " [0. 0. 0. ... 0. 0. 0.]\n",
      " [0. 0. 0. ... 0. 0. 0.]\n",
      " [0. 0. 0. ... 0. 0. 0.]]\n",
      "Testsize = 17678\n"
     ]
    }
   ],
   "source": [
    "# please do not change this cell\n",
    "\n",
    "from sklearn.model_selection import train_test_split\n",
    "\n",
    "n_users = df.user_id.unique().shape[0]\n",
    "n_items = df.item_id.unique().shape[0]\n",
    "print(str(n_users) + ' users')\n",
    "print(str(n_items) + ' items')\n",
    "\n",
    "train_df, test_df = train_test_split(df, test_size=0.2, random_state = 10)\n",
    "train_df, test_df\n",
    "\n",
    "# Training Dataset\n",
    "train_ds = np.zeros((n_users, n_items))\n",
    "item_popularity = np.zeros(n_items)\n",
    "for row in train_df.itertuples():\n",
    "    train_ds[row[1]-1, row[2]-1] = row[3]\n",
    "    item_popularity[row[2]-1] =  item_popularity[row[2]-1] + 1\n",
    "#train_ds = pd.DataFrame(train_ds)\n",
    "\n",
    "# Testing Dataset\n",
    "testsize = 0\n",
    "test_ds = np.zeros((n_users, n_items))\n",
    "for row in test_df.itertuples():\n",
    "    if item_popularity[row[2]-1] > 30:\n",
    "        test_ds[row[1]-1, row[2]-1] = row[3]\n",
    "        testsize = testsize + 1\n",
    "#test_ds = pd.DataFrame(test_ds)\n",
    "\n",
    "print(\"Construct the rating matrix based on train_df:\")\n",
    "print(train_ds)\n",
    "\n",
    "print(\"Construct the rating matrix based on test_df:\")\n",
    "print(test_ds)\n",
    "\n",
    "print(\"Testsize = \" + str(testsize))"
   ]
  },
  {
   "cell_type": "markdown",
   "id": "2327db3f-c8c4-4d5d-a1d0-a7e762118a49",
   "metadata": {},
   "source": [
    "# MAE and RMSE Utils"
   ]
  },
  {
   "cell_type": "code",
   "execution_count": 4,
   "id": "0ac15b08-ee5a-4d8a-a5a9-fed6917b9104",
   "metadata": {},
   "outputs": [],
   "source": [
    "# Please don't change this cell\n",
    "# you can use this devaluate Utils here, and you can also implement your own MAE and RMSE calculation. \n",
    "\n",
    "EPSILON = 1e-9\n",
    "\n",
    "def evaluate(test_ds, predicted_ds):\n",
    "    '''\n",
    "    Function for evaluating on MAE and RMSE\n",
    "    '''\n",
    "    # MAE\n",
    "    mask_test_ds = test_ds > 0\n",
    "    MAE = np.sum(np.abs(test_ds[mask_test_ds] - predicted_ds[mask_test_ds])) / np.sum(mask_test_ds.astype(np.float32))\n",
    "\n",
    "    # RMSE\n",
    "    RMSE = np.sqrt(np.sum(np.square(test_ds[mask_test_ds] - predicted_ds[mask_test_ds])) / np.sum(mask_test_ds.astype(np.float32)))\n",
    "\n",
    "    return MAE, RMSE"
   ]
  },
  {
   "cell_type": "markdown",
   "id": "7f2a51a1-19ab-4a11-b3d3-e046b0051e1a",
   "metadata": {},
   "source": [
    "# Your Solution for Method 1"
   ]
  },
  {
   "cell_type": "code",
   "execution_count": 5,
   "id": "61330a1d-7092-4b12-86b0-2d7a60d6f4e3",
   "metadata": {},
   "outputs": [
    {
     "name": "stdout",
     "output_type": "stream",
     "text": [
      "movie ID\t movie title\n",
      "1455          Beat the Devil (1954)\n",
      "1454             Outlaw, The (1943)\n",
      "1453    Angel and the Badman (1947)\n",
      "1452    Angel on My Shoulder (1946)\n",
      "1451       Lady of Burlesque (1943)\n",
      "Name: movie title, dtype: object\n"
     ]
    }
   ],
   "source": [
    "# Write your code here for Method 1\n",
    "# You are required to implement the required solution 1 here. \n",
    "# Then, evaluate your implementation by predicting the ratings in the test set (test_ds).\n",
    "# Finally, save the corresponding MAE and RMSE of your implementation \n",
    "# into the following defined corresponding variable. \n",
    "\n",
    "\n",
    "# Setting up parameters\n",
    "ratings = train_ds\n",
    "userRatedCount = (ratings > 0).sum(axis=1)\n",
    "userRatedSum = ratings.sum(axis=1)\n",
    "userAvg = userRatedSum/userRatedCount\n",
    "\n",
    "\n",
    "i_cols = ['movie id', 'movie title' ,'release date','video release date', 'IMDb URL', 'unknown', 'Action', 'Adventure',\n",
    " 'Animation', 'Children\\'s', 'Comedy', 'Crime', 'Documentary', 'Drama', 'Fantasy',\n",
    " 'Film-Noir', 'Horror', 'Musical', 'Mystery', 'Romance', 'Sci-Fi', 'Thriller', 'War', 'Western']\n",
    "items = pd.read_csv('ml-100k/u.item', sep='|', names=i_cols, encoding='latin-1')\n",
    "\n",
    "\n",
    "# Top 5 recommendations\n",
    "top_n = 5 \n",
    "activeUser = 0 # Specific user to recommend to\n",
    "mask_activeUser = ratings[activeUser, :] > 0\n",
    "\n",
    "userAvgSort = np.where(~mask_activeUser)[0].argsort()\n",
    "print('movie ID' + '\\t movie title')\n",
    "print(items['movie title'][userAvgSort[list(range(len(userAvgSort) - 1, len(userAvgSort) - top_n - 1, -1))]])\n",
    "\n",
    "predicted_ds = np.repeat(userAvg.reshape(-1, 1), n_items, axis=1)\n",
    "\n",
    "MAE_solution1 = evaluate(test_ds, predicted_ds)[0] # 0 is an intial value, you need to update this with the actual perofrmance of your implementation.\n",
    "RMSE_solution1 = evaluate(test_ds, predicted_ds)[1] # 0 is an intial value, you need to update this with the actual perofrmance of your implementation."
   ]
  },
  {
   "cell_type": "code",
   "execution_count": 6,
   "id": "cec8efe6-8214-46de-acce-6b5bf24c245a",
   "metadata": {},
   "outputs": [
    {
     "name": "stdout",
     "output_type": "stream",
     "text": [
      "===================== The MAE and RMSE of Your Implementation =====================\n",
      "MAE: 0.8258905090105331, RMSE: 1.031143070595138\n"
     ]
    }
   ],
   "source": [
    "# Please don't change this cell\n",
    "\n",
    "print(\"===================== The MAE and RMSE of Your Implementation =====================\")\n",
    "print(\"MAE: {}, RMSE: {}\" .format(MAE_solution1, RMSE_solution1))"
   ]
  },
  {
   "cell_type": "markdown",
   "id": "ed1b9cc5-6fa4-48c6-8a44-edd6d9a8729d",
   "metadata": {},
   "source": [
    "# Your Solution for Method 2"
   ]
  },
  {
   "cell_type": "code",
   "execution_count": 7,
   "id": "be5ec1b4-5825-4c05-a950-04a4ae7300bd",
   "metadata": {},
   "outputs": [
    {
     "name": "stdout",
     "output_type": "stream",
     "text": [
      "movie ID\t movie title\n",
      "1681    Scream of Stone (Schrei aus Stein) (1991)\n",
      "1565              Man from Down Under, The (1943)\n",
      "1647                      Niagara, Niagara (1997)\n",
      "1491                       Window to Paris (1994)\n",
      "1640                              Dadetown (1995)\n",
      "Name: movie title, dtype: object\n"
     ]
    }
   ],
   "source": [
    "# Write your code here for Method 2\n",
    "# You are required to implement the required solution 1 here. \n",
    "# Then, evaluate your implementation by predicting the ratings in the test set (test_ds).\n",
    "# Finally, save the corresponding MAE and RMSE of your implementation \n",
    "# into the following defined corresponding variable. \n",
    "\n",
    "# Setting up parameters\n",
    "itemRateNum = item_popularity\n",
    "itemRateSum = train_ds.sum(axis=0)\n",
    "itemRateAvg = itemRateSum/itemRateNum\n",
    "\n",
    "#Implementation of MovieAvg to recommend the top_n = 5 movies to the activeUser = 0\n",
    "top_n = 5\n",
    "activeUser = 0 # Specific user to recommend to\n",
    "mask_activeUser = ratings[activeUser, :] > 0\n",
    "itemRateAvgCurrent = itemRateAvg.copy()\n",
    "itemRateAvgCurrent[mask_activeUser] = 0\n",
    "\n",
    "itemSortInd = itemRateAvgCurrent.argsort()\n",
    "print('movie ID' + '\\t movie title')\n",
    "print(items['movie title'][itemSortInd[list(range(len(itemSortInd) - 1, len(itemSortInd) - top_n - 1, -1))]])\n",
    "\n",
    "predicted_ds = np.repeat(itemRateAvg.reshape(1, -1), n_users, axis=0)\n",
    "\n",
    "\n",
    "\n",
    "MAE_solution2 = evaluate(test_ds, predicted_ds)[0] # 0 is an intial value, you need to update this with the actual perofrmance of your implementation.\n",
    "RMSE_solution2 = evaluate(test_ds, predicted_ds)[1] # 0 is an intial value, you need to update this with the actual perofrmance of your implementation.\n"
   ]
  },
  {
   "cell_type": "code",
   "execution_count": 8,
   "id": "95dc2f56-5802-420c-aa87-3ed5d89ea030",
   "metadata": {},
   "outputs": [
    {
     "name": "stdout",
     "output_type": "stream",
     "text": [
      "===================== The MAE and RMSE of Your Implementation =====================\n",
      "MAE: 0.7961203950990416, RMSE: 1.0013142101585724\n"
     ]
    }
   ],
   "source": [
    "# Please don't change this cell\n",
    "\n",
    "print(\"===================== The MAE and RMSE of Your Implementation =====================\")\n",
    "print(\"MAE: {}, RMSE: {}\" .format(MAE_solution2, RMSE_solution2))"
   ]
  },
  {
   "cell_type": "markdown",
   "id": "c9281c64-c5e2-451b-a69a-2d9965271093",
   "metadata": {},
   "source": [
    "# Your Solution for Method 3"
   ]
  },
  {
   "cell_type": "code",
   "execution_count": 9,
   "id": "2e1209c4-3c44-4e88-814c-0c8afaac0cad",
   "metadata": {},
   "outputs": [
    {
     "name": "stdout",
     "output_type": "stream",
     "text": [
      "     K       MAE      RMSE\n",
      "0    2  0.852928  1.097084\n",
      "1    5  0.839761  1.081909\n",
      "2   10  0.807093  1.041305\n",
      "3   15  0.784888  1.014519\n",
      "4   20  0.770557  0.996595\n",
      "5   25  0.759352  0.982060\n",
      "6   50  0.735835  0.950393\n",
      "7  100  0.724280  0.933518\n",
      "K       100.000000\n",
      "MAE       0.724280\n",
      "RMSE      0.933518\n",
      "Name: 7, dtype: float64\n",
      "K       100.000000\n",
      "MAE       0.724280\n",
      "RMSE      0.933518\n",
      "Name: 7, dtype: float64\n"
     ]
    }
   ],
   "source": [
    "# Write your code here for Method 3\n",
    "# You are required to implement the required solution 1 here. \n",
    "# Then, evaluate your implementation by predicting the ratings in the test set (test_ds).\n",
    "# Finally, save the corresponding MAE and RMSE of your implementation \n",
    "# into the following defined corresponding variable. \n",
    "\n",
    "\n",
    "#Compute Pearson Correlation Coefficient for Each Pair of Users in Training Dataset\n",
    "GAMMA = 30\n",
    "\n",
    "train_ds = pd.DataFrame(train_ds)\n",
    "np_user_pearson_corr = np.zeros((n_users, n_users))\n",
    "\n",
    "for i, user_i_vec in enumerate(train_ds.values):\n",
    "    for j, user_j_vec in enumerate(train_ds.values):\n",
    "    \n",
    "        # ratings corated by the current pair od users\n",
    "        mask_i = user_i_vec > 0\n",
    "        mask_j = user_j_vec > 0\n",
    "\n",
    "        # corrated item index, skip if there are no corrated ratings\n",
    "        corrated_index = np.intersect1d(np.where(mask_i), np.where(mask_j))\n",
    "        if len(corrated_index) == 0:\n",
    "            continue\n",
    "\n",
    "        # average value of user_i_vec and user_j_vec\n",
    "        mean_user_i = np.sum(user_i_vec) / (np.sum(np.clip(user_i_vec, 0, 1)) + EPSILON)\n",
    "        mean_user_j = np.sum(user_j_vec) / (np.sum(np.clip(user_j_vec, 0, 1)) + EPSILON)\n",
    "\n",
    "        # compute pearson corr\n",
    "        user_i_sub_mean = user_i_vec[corrated_index] - mean_user_i\n",
    "        user_j_sub_mean = user_j_vec[corrated_index] - mean_user_j\n",
    "\n",
    "        r_ui_sub_r_i_sq = np.square(user_i_sub_mean)\n",
    "        r_uj_sub_r_j_sq = np.square(user_j_sub_mean)\n",
    "\n",
    "        r_ui_sum_sqrt = np.sqrt(np.sum(r_ui_sub_r_i_sq))\n",
    "        r_uj_sum_sqrt = np.sqrt(np.sum(r_uj_sub_r_j_sq))\n",
    "\n",
    "        sim = np.sum(user_i_sub_mean * user_j_sub_mean) / (r_ui_sum_sqrt * r_uj_sum_sqrt + EPSILON)\n",
    "\n",
    "        # significance weighting\n",
    "        weighted_sim = (min(len(corrated_index), GAMMA) / GAMMA) * sim\n",
    "\n",
    "        np_user_pearson_corr[i][j] = weighted_sim\n",
    "\n",
    "\n",
    "\n",
    "# Predict Ratings\n",
    "\n",
    "np_predictions = np.zeros((n_users, n_items))\n",
    "test_ds = pd.DataFrame(test_ds)\n",
    "\n",
    "results = []\n",
    "k_vals = [2, 5, 10, 15, 20, 25, 50, 100]\n",
    "\n",
    "for K in k_vals:  # Finds the most accurate K value to optimise the algorithm\n",
    "    for (i, j), rating in np.ndenumerate(test_ds.values):\n",
    "        if rating > 0:\n",
    "            # find top-k most similar users as the current user, remove itself\n",
    "            sim_user_ids = np.argsort(np_user_pearson_corr[i])[-(K + 1):-1]\n",
    "\n",
    "            # the coefficient values of similar users\n",
    "            sim_val = np_user_pearson_corr[i][sim_user_ids]\n",
    "\n",
    "            # the average value of the current user's ratings\n",
    "            sim_users = train_ds.values[sim_user_ids]\n",
    "            user_mean = np.sum(train_ds.values[i]) / (np.sum(np.clip(train_ds.values[i], 0, 1)) + EPSILON)\n",
    "            sim_user_mean = np.sum(sim_users, axis=1) / (np.sum(np.clip(sim_users, 0, 1), axis=1) + EPSILON)\n",
    "\n",
    "            # select the users who rated item j\n",
    "            mask_rated_j = sim_users[:, j] > 0\n",
    "            \n",
    "\n",
    "    ## If all of the k nearest neighbours have no ratings from u_a, r_(a,i) will be predicted as the average rating of user u_a.\n",
    "            if np.sum(mask_rated_j) == 0:\n",
    "                np_predictions[i][j] = user_mean\n",
    "            else:\n",
    "            # sim(u, v) * (r_vj - mean_v)\n",
    "                sim_r_sum_mean = sim_val[mask_rated_j] * (sim_users[mask_rated_j, j] - sim_user_mean[mask_rated_j])\n",
    "                np_predictions[i][j] = user_mean + np.sum(sim_r_sum_mean) / (np.sum(sim_val[mask_rated_j]) + EPSILON)\n",
    "                np_predictions[i][j] = np.clip(np_predictions[i][j], 0, 5)\n",
    "    predicted_ds = pd.DataFrame(data=np_predictions) # Convert numpy array to pandas dataframe\n",
    "    mae, rmse = evaluate(test_ds.values, predicted_ds.values)\n",
    "    results.append({\n",
    "        'K':      K,\n",
    "        'MAE':    mae,\n",
    "        'RMSE':   rmse\n",
    "    })\n",
    "\n",
    "\n",
    "df_results = pd.DataFrame(results) # Converts the results into a dataframe\n",
    "print(df_results)\n",
    "print(df_results.loc[df_results['MAE'].idxmin()]) # Minimum error at K = 100\n",
    "print(df_results.loc[df_results['RMSE'].idxmin()])# Minimum error at K = 100\n",
    "\n",
    "\n",
    "MAE_solution3 = df_results.iloc[7][1] # 0 is an intial value, you need to update this with the actual perofrmance of your implementation.\n",
    "RMSE_solution3 = df_results.iloc[7][2] # 0 is an intial value, you need to update this with the actual perofrmance of your implementation."
   ]
  },
  {
   "cell_type": "code",
   "execution_count": 10,
   "id": "4f517513-1805-4a3e-ad30-09fdb19bdeab",
   "metadata": {},
   "outputs": [
    {
     "name": "stdout",
     "output_type": "stream",
     "text": [
      "===================== The MAE and RMSE of Your Implementation =====================\n",
      "MAE: 0.7242796715862664, RMSE: 0.9335175303048852\n"
     ]
    }
   ],
   "source": [
    "# Please don't change this cell\n",
    "\n",
    "print(\"===================== The MAE and RMSE of Your Implementation =====================\")\n",
    "print(\"MAE: {}, RMSE: {}\" .format(MAE_solution3, RMSE_solution3))"
   ]
  },
  {
   "cell_type": "markdown",
   "id": "06dfa165-49ce-4bb2-96a8-a86ab58705d4",
   "metadata": {},
   "source": [
    "# Your Solution for Method 4"
   ]
  },
  {
   "cell_type": "code",
   "execution_count": 11,
   "id": "413fb7bf-0efa-4fe0-8f5c-874db8f531fb",
   "metadata": {},
   "outputs": [
    {
     "name": "stdout",
     "output_type": "stream",
     "text": [
      "     K       MAE      RMSE\n",
      "0    2  0.826346  1.070086\n",
      "1    5  0.811873  1.055337\n",
      "2   10  0.785626  1.022690\n",
      "3   15  0.765403  0.993999\n",
      "4   20  0.754664  0.978483\n",
      "5   25  0.746116  0.965538\n",
      "6   50  0.725046  0.932610\n",
      "7  100  0.711640  0.913458\n",
      "K       100.000000\n",
      "MAE       0.711640\n",
      "RMSE      0.913458\n",
      "Name: 7, dtype: float64\n",
      "K       100.000000\n",
      "MAE       0.711640\n",
      "RMSE      0.913458\n",
      "Name: 7, dtype: float64\n"
     ]
    }
   ],
   "source": [
    "# Write your code here for Method 4\n",
    "# You are required to implement the required solution 1 here. \n",
    "# Then, evaluate your implementation by predicting the ratings in the test set (test_ds).\n",
    "# Finally, save the corresponding MAE and RMSE of your implementation \n",
    "# into the following defined corresponding variable. \n",
    "\n",
    "DELTA = GAMMA\n",
    "\n",
    "np_item_pearson_corr = np.zeros((n_items, n_items))\n",
    "for i, item_i_vec in enumerate(train_ds.T.values):\n",
    "    for j, item_j_vec in enumerate(train_ds.T.values):\n",
    "\n",
    "        # ratings corated by the current pair od items\n",
    "        mask_i = item_i_vec > 0\n",
    "        mask_j = item_j_vec > 0\n",
    "\n",
    "        # corrated index, impute corrated as item average if \n",
    "        # all of the k nearest neighbours have no ratings \n",
    "        corrated_index = np.intersect1d(np.where(mask_i), np.where(mask_j))\n",
    "        if len(corrated_index) == 0:\n",
    "            continue\n",
    "\n",
    "\n",
    "        # average value of item_i_vec and item_j_vec\n",
    "        mean_item_i = np.sum(item_i_vec) / (np.sum(np.clip(item_i_vec, 0, 1)) + EPSILON)\n",
    "        mean_item_j = np.sum(item_j_vec) / (np.sum(np.clip(item_j_vec, 0, 1)) + EPSILON)\n",
    "\n",
    "        # compute pearson corr\n",
    "        item_i_sub_mean = item_i_vec[corrated_index] - mean_item_i\n",
    "        item_j_sub_mean = item_j_vec[corrated_index] - mean_item_j\n",
    "\n",
    "        r_ui_sub_ri_sq = np.square(item_i_sub_mean)\n",
    "        r_uj_sub_rj_sq = np.square(item_j_sub_mean)\n",
    "\n",
    "        r_ui_sub_ri_sq_sum_sqrt = np.sqrt(np.sum(r_ui_sub_ri_sq))\n",
    "        r_uj_sub_rj_sq_sum_sqrt = np.sqrt(np.sum(r_uj_sub_rj_sq))\n",
    "\n",
    "        sim = np.sum(item_i_sub_mean * item_j_sub_mean) / (r_ui_sub_ri_sq_sum_sqrt * r_uj_sub_rj_sq_sum_sqrt + EPSILON)\n",
    "\n",
    "        # significance weighting\n",
    "        weighted_sim = (min(len(corrated_index), DELTA) / DELTA) * sim\n",
    "\n",
    "        np_item_pearson_corr[i][j] = weighted_sim\n",
    "\n",
    "\n",
    "np_predictions = np.zeros((n_users, n_items))\n",
    "results = []\n",
    "\n",
    "k_vals = [2, 5, 10, 15, 20, 25, 50, 100] # options of k values \n",
    "for K in k_vals:  # Finds the most accurate K value to optimise the algorithm\n",
    "    for (i, j), rating in np.ndenumerate(test_ds.values):\n",
    "        if rating > 0:\n",
    "            # find top-k most similar items as the current item, remove itself\n",
    "            sim_item_ids = np.argsort(np_item_pearson_corr[j])[-(K + 1):-1]\n",
    "\n",
    "            # the coefficient values of similar items\n",
    "            sim_val = np_item_pearson_corr[j][sim_item_ids]\n",
    "\n",
    "            # the average value of the current item's ratings\n",
    "            sim_items = train_ds.T.values[sim_item_ids]\n",
    "            item_mean = np.sum(train_ds.T.values[j]) / (np.sum(np.clip(train_ds.T.values[j], 0, 1)) + EPSILON)\n",
    "            sim_item_mean = np.sum(sim_items, axis=1) / (np.sum(np.clip(sim_items, 0, 1), axis=1) + EPSILON)\n",
    "\n",
    "            if np.sum(sim_val) ==0:  ## Fall back if all of the k nearest neighbours have no ratings \n",
    "                np_predictions[i][j] = item_mean # Imputes Item Mean\n",
    "            else: # Otherwise use Item KNN-based Collaborative Filtering \n",
    "\n",
    "            # sim(u, v) * (r_v - mean_v)\n",
    "                sim_r_sum_mean = sim_val * (sim_items[:, i] - sim_item_mean) \n",
    "\n",
    "            # filter unrated items\n",
    "                w = np.clip(sim_items[:, i], 0, 1)\n",
    "                sim_r_sum_mean *= w\n",
    "\n",
    "                np_predictions[i][j] = item_mean + np.sum(sim_r_sum_mean) / (np.sum(sim_val * w) + EPSILON)    \n",
    "                np_predictions[i][j] = np.clip(np_predictions[i][j], 0, 5)\n",
    " \n",
    "    predicted_ds = pd.DataFrame(data=np_predictions) # Convert numpy array to pandas dataframe\n",
    "    mae, rmse = evaluate(test_ds.values, predicted_ds.values)\n",
    "    results.append({'K': K, 'MAE': mae, 'RMSE': rmse})\n",
    "    \n",
    "df_results = pd.DataFrame(results) # Converts the results into a dataframe\n",
    "print(df_results)\n",
    "print(df_results.loc[df_results['MAE'].idxmin()]) # Minimum error at K = 100\n",
    "print(df_results.loc[df_results['RMSE'].idxmin()])# Minimum error at K = 100\n",
    "\n",
    "\n",
    "\n",
    "\n",
    "MAE_solution4 = df_results.iloc[7][1] # 0 is an intial value, you need to update this with the actual perofrmance of your implementation.\n",
    "RMSE_solution4 = df_results.iloc[7][2] # 0 is an intial value, you need to update this with the actual perofrmance of your implementation.\n"
   ]
  },
  {
   "cell_type": "code",
   "execution_count": 12,
   "id": "47c9516a-2c5b-4783-a461-c35514975fdb",
   "metadata": {},
   "outputs": [
    {
     "name": "stdout",
     "output_type": "stream",
     "text": [
      "===================== The MAE and RMSE of Your Implementation =====================\n",
      "MAE: 0.7116404641637847, RMSE: 0.9134583532587439\n"
     ]
    }
   ],
   "source": [
    "# Please don't change this cell\n",
    "\n",
    "print(\"===================== The MAE and RMSE of Your Implementation =====================\")\n",
    "print(\"MAE: {}, RMSE: {}\" .format(MAE_solution4, RMSE_solution4))"
   ]
  },
  {
   "cell_type": "markdown",
   "id": "f82ecd8b-5248-4154-be35-139e1eb9ce1c",
   "metadata": {},
   "source": [
    "# Your Solution for Method 5"
   ]
  },
  {
   "cell_type": "code",
   "execution_count": 13,
   "id": "8b13f73f-3004-47e1-976e-6895c8e2d1a1",
   "metadata": {},
   "outputs": [
    {
     "name": "stdout",
     "output_type": "stream",
     "text": [
      "MAE     0.708552\n",
      "RMSE    0.909185\n",
      "Name: 7, dtype: float64\n",
      "MAE     0.708552\n",
      "RMSE    0.909185\n",
      "Name: 7, dtype: float64\n",
      "MAE     0.708552\n",
      "RMSE    0.909185\n",
      "Name: 7, dtype: float64\n",
      "Optimal Value Of Lambda 0.14\n"
     ]
    }
   ],
   "source": [
    "# Write your code here for Method 5\n",
    "# You are required to implement the required solution 1 here. \n",
    "# Then, evaluate your implementation by predicting the ratings in the test set (test_ds).\n",
    "# Finally, save the corresponding MAE and RMSE of your implementation \n",
    "# into the following defined corresponding variable. \n",
    "\n",
    "\n",
    "K = 100 # this can be said as both method 3 and 4 have optimal K values at K=100\n",
    "np_predictions_item5 = np.zeros((n_users, n_items))\n",
    "\n",
    "## Item based Knn Collaborative filtering\n",
    "for (i, j), rating in np.ndenumerate(test_ds.values):\n",
    "    if rating > 0:\n",
    "            # find top-k most similar items as the current item, remove itself\n",
    "        sim_item_ids = np.argsort(np_item_pearson_corr[j])[-(K + 1):-1]\n",
    "\n",
    "            # the coefficient values of similar items\n",
    "        sim_val = np_item_pearson_corr[j][sim_item_ids]\n",
    "\n",
    "            # the average value of the current item's ratings\n",
    "        sim_items = train_ds.T.values[sim_item_ids]\n",
    "        item_mean = np.sum(train_ds.T.values[j]) / (np.sum(np.clip(train_ds.T.values[j], 0, 1)) + EPSILON)\n",
    "        sim_item_mean = np.sum(sim_items, axis=1) / (np.sum(np.clip(sim_items, 0, 1), axis=1) + EPSILON)\n",
    "\n",
    "\n",
    "\n",
    "            # sim(u, v) * (r_v - mean_v)\n",
    "        sim_r_sum_mean = sim_val * (sim_items[:, i] - sim_item_mean) \n",
    "\n",
    "            # filter unrated items\n",
    "        w = np.clip(sim_items[:, i], 0, 1)\n",
    "        sim_r_sum_mean *= w\n",
    "\n",
    "        np_predictions_item5[i][j] = item_mean + np.sum(sim_r_sum_mean) / (np.sum(sim_val * w) + EPSILON)    \n",
    "        np_predictions_item5[i][j] = np.clip(np_predictions_item5[i][j], 0, 5)\n",
    "\n",
    "\n",
    "## User Based Knn Collaborative Filtering \n",
    "np_predictions_user5 = np.zeros((n_users, n_items))\n",
    "for (i, j), rating in np.ndenumerate(test_ds.values):\n",
    "    if rating > 0:\n",
    "        # find top-k most similar users as the current user, remove itself\n",
    "        sim_user_ids = np.argsort(np_user_pearson_corr[i])[-(K + 1):-1]\n",
    "\n",
    "        # the coefficient values of similar users\n",
    "        sim_val = np_user_pearson_corr[i][sim_user_ids]\n",
    "\n",
    "        # the average value of the current user's ratings\n",
    "        sim_users = train_ds.values[sim_user_ids]\n",
    "        user_mean = np.sum(train_ds.values[i]) / (np.sum(np.clip(train_ds.values[i], 0, 1)) + EPSILON)\n",
    "        sim_user_mean = np.sum(sim_users, axis=1) / (np.sum(np.clip(sim_users, 0, 1), axis=1) + EPSILON)\n",
    "\n",
    "        # select the users who rated item j\n",
    "        mask_rated_j = sim_users[:, j] > 0\n",
    "    \n",
    "        # sim(u, v) * (r_vj - mean_v)\n",
    "        sim_r_sum_mean = sim_val[mask_rated_j] * (sim_users[mask_rated_j, j] - sim_user_mean[mask_rated_j])\n",
    "        np_predictions_user5[i][j] = user_mean + np.sum(sim_r_sum_mean) / (np.sum(sim_val[mask_rated_j]) + EPSILON)\n",
    "        np_predictions_user5[i][j] = np.clip(np_predictions_user5[i][j], 0, 5)\n",
    "\n",
    "\n",
    "\n",
    "## Finding optimal lambda!\n",
    "lambda_results = []\n",
    "λ_val = np.linspace(0,1,51) # Generates 50 values spread at an even interval throughout the range of 0 to 1\n",
    "for λ in λ_val:\n",
    "    np_predictions_5 = λ*np_predictions_user5 + (1-λ)*np_predictions_item5\n",
    "    predicted_ds_5 = pd.DataFrame(data=np_predictions_5) # Convert numpy array to pandas dataframe\n",
    "    mae, rmse = evaluate(test_ds.values, predicted_ds_5.values)\n",
    "    lambda_results.append({'MAE': mae, 'RMSE': rmse})\n",
    "\n",
    "lambda_results = pd.DataFrame(lambda_results) # Converts the results into a dataframe\n",
    "#print(lambda_results)\n",
    "print(lambda_results.loc[df_results['MAE'].idxmin()]) # The Minimum Mean absolute error at index 7\n",
    "print(lambda_results.loc[df_results['RMSE'].idxmin()]) # The Minimum Root Mean Square Error at index 7\n",
    "print(lambda_results.iloc[7]) # Minimum error at index 7\n",
    "print('Optimal Value Of Lambda', λ_val[7])\n",
    "\n",
    "\n",
    "\n",
    "MAE_solution5 = lambda_results.iloc[7][0] # 0 is an intial value, you need to update this with the actual perofrmance of your implementation.\n",
    "RMSE_solution5 = lambda_results.iloc[7][1] # 0 is an intial value, you need to update this with the actual perofrmance of your implementation.\n"
   ]
  },
  {
   "cell_type": "code",
   "execution_count": 14,
   "id": "083bdb74-5627-417a-91ea-388f9353fc8b",
   "metadata": {},
   "outputs": [
    {
     "name": "stdout",
     "output_type": "stream",
     "text": [
      "===================== The MAE and RMSE of Your Implementation =====================\n",
      "MAE: 0.7085519671646524, RMSE: 0.909185290610351\n"
     ]
    }
   ],
   "source": [
    "# Please don't change this cell\n",
    "\n",
    "print(\"===================== The MAE and RMSE of Your Implementation =====================\")\n",
    "print(\"MAE: {}, RMSE: {}\" .format(MAE_solution5, RMSE_solution5))"
   ]
  },
  {
   "cell_type": "code",
   "execution_count": null,
   "id": "497d1d2a-0a08-46da-a809-c82af42dd36c",
   "metadata": {},
   "outputs": [],
   "source": []
  }
 ],
 "metadata": {
  "kernelspec": {
   "display_name": "base",
   "language": "python",
   "name": "python3"
  },
  "language_info": {
   "codemirror_mode": {
    "name": "ipython",
    "version": 3
   },
   "file_extension": ".py",
   "mimetype": "text/x-python",
   "name": "python",
   "nbconvert_exporter": "python",
   "pygments_lexer": "ipython3",
   "version": "3.12.7"
  }
 },
 "nbformat": 4,
 "nbformat_minor": 5
}
